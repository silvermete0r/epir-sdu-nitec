{
  "nbformat": 4,
  "nbformat_minor": 0,
  "metadata": {
    "colab": {
      "provenance": []
    },
    "kernelspec": {
      "name": "python3",
      "display_name": "Python 3"
    },
    "language_info": {
      "name": "python"
    }
  },
  "cells": [
    {
      "cell_type": "code",
      "execution_count": 3,
      "metadata": {
        "id": "VjGi5pATDoSk"
      },
      "outputs": [],
      "source": [
        "# No words, just work => Goal: TOP #1 🍋\n",
        "\n",
        "import numpy as np # linear algebra\n",
        "import pandas as pd # data processing, CSV file I/O (e.g. pd.read_csv)\n",
        "\n",
        "# Ignore any warnings: chill..\n",
        "import warnings\n",
        "warnings.filterwarnings('ignore')\n",
        "\n",
        "# Natural Language Processing | Machine Learning models\n",
        "import tensorflow as tf\n",
        "from sklearn.metrics.pairwise import cosine_similarity\n",
        "from tensorflow.keras.preprocessing.text import Tokenizer\n",
        "from tensorflow.keras.preprocessing.sequence import pad_sequences"
      ]
    },
    {
      "cell_type": "code",
      "source": [
        "# Training Datasets\n",
        "df_articles = pd.read_csv('articles.csv')\n",
        "df_lifes = pd.read_csv('life_situations.csv')\n",
        "df_news = pd.read_csv('news.csv')\n",
        "df_services = pd.read_csv('services.csv')\n",
        "\n",
        "# Testing Datasets\n",
        "df_test = pd.read_csv('epir_test.csv')"
      ],
      "metadata": {
        "id": "yzdUCO_CGIjo"
      },
      "execution_count": 5,
      "outputs": []
    },
    {
      "cell_type": "code",
      "source": [
        "df_lifes.drop(columns=['subid'], inplace=True)\n",
        "df_lifes.rename(columns={'URL': 'url'}, inplace=True)\n",
        "\n",
        "def df_generalize(df, category):\n",
        "    if 'content' in df.columns:\n",
        "        df.rename(columns={'content': 'x'}, inplace=True)\n",
        "    drop_columns = df.columns[3:-1]\n",
        "    df['content'] = df.iloc[:, 3:-1].apply(lambda row: ' '.join(map(str, row)), axis=1)\n",
        "    df.drop(columns=drop_columns, inplace=True)\n",
        "    df.drop(['id'], axis=1, inplace=True)\n",
        "    df.rename(columns={'Unnamed: 0': 'id'}, inplace=True)\n",
        "    df = df.assign(**{'category': category})\n",
        "    return df"
      ],
      "metadata": {
        "id": "buHjErbblTTv"
      },
      "execution_count": null,
      "outputs": []
    },
    {
      "cell_type": "code",
      "source": [
        "df_news = df_generalize(df_news, 'news')\n",
        "df_lifes = df_generalize(df_lifes, 'lifes')\n",
        "df_articles = df_generalize(df_articles, 'articles')\n",
        "df_services = df_generalize(df_services, 'services')"
      ],
      "metadata": {
        "id": "v-jr3QCLlaKt"
      },
      "execution_count": null,
      "outputs": []
    },
    {
      "cell_type": "code",
      "source": [
        "df_train = pd.concat([df_news, df_lifes, df_articles, df_services])"
      ],
      "metadata": {
        "id": "FJD1HNcKlbWx"
      },
      "execution_count": null,
      "outputs": []
    },
    {
      "cell_type": "code",
      "source": [
        "df_train = df_train.drop_duplicates(subset='url', keep='first')"
      ],
      "metadata": {
        "id": "f343BIK9leZi"
      },
      "execution_count": null,
      "outputs": []
    },
    {
      "cell_type": "code",
      "source": [
        "df_train = df_train[df_train['sys_lang'].isin(['en', 'ru', 'qq', 'kk'])]"
      ],
      "metadata": {
        "id": "MV_6OHJvlhpe"
      },
      "execution_count": null,
      "outputs": []
    },
    {
      "cell_type": "code",
      "source": [
        "max_sequence_length = 100\n",
        "tokenizer = Tokenizer()\n",
        "tokenizer.fit_on_texts(df_train['content'])"
      ],
      "metadata": {
        "id": "6zquVspkmmie"
      },
      "execution_count": null,
      "outputs": []
    },
    {
      "cell_type": "code",
      "source": [
        "def summary(df):\n",
        "    summary_df = pd.DataFrame(df.dtypes, columns=['dtypes'])\n",
        "    summary_df['missing#'] = df.isna().sum()\n",
        "    summary_df['missing%'] = (df.isna().sum())/len(df)\n",
        "    summary_df['uniques'] = df.nunique().values\n",
        "    summary_df['count'] = df.count().values\n",
        "    return summary_df\n",
        "\n",
        "summary(df_train).style.background_gradient(cmap='Greens')"
      ],
      "metadata": {
        "colab": {
          "base_uri": "https://localhost:8080/",
          "height": 206
        },
        "id": "ahpF6dwHHIhn",
        "outputId": "b24b7daa-59be-4287-fe19-444bf9da76f3"
      },
      "execution_count": null,
      "outputs": [
        {
          "output_type": "execute_result",
          "data": {
            "text/plain": [
              "<pandas.io.formats.style.Styler at 0x7eebf6f6cbe0>"
            ],
            "text/html": [
              "<style type=\"text/css\">\n",
              "#T_09bf1_row0_col1, #T_09bf1_row0_col2, #T_09bf1_row1_col1, #T_09bf1_row1_col2, #T_09bf1_row1_col3, #T_09bf1_row2_col1, #T_09bf1_row2_col2, #T_09bf1_row3_col4, #T_09bf1_row4_col1, #T_09bf1_row4_col2, #T_09bf1_row4_col3 {\n",
              "  background-color: #f7fcf5;\n",
              "  color: #000000;\n",
              "}\n",
              "#T_09bf1_row0_col3, #T_09bf1_row0_col4, #T_09bf1_row1_col4, #T_09bf1_row2_col4, #T_09bf1_row3_col1, #T_09bf1_row3_col2, #T_09bf1_row4_col4 {\n",
              "  background-color: #00441b;\n",
              "  color: #f1f1f1;\n",
              "}\n",
              "#T_09bf1_row2_col3 {\n",
              "  background-color: #00491d;\n",
              "  color: #f1f1f1;\n",
              "}\n",
              "#T_09bf1_row3_col3 {\n",
              "  background-color: #3fa85b;\n",
              "  color: #f1f1f1;\n",
              "}\n",
              "</style>\n",
              "<table id=\"T_09bf1\" class=\"dataframe\">\n",
              "  <thead>\n",
              "    <tr>\n",
              "      <th class=\"blank level0\" >&nbsp;</th>\n",
              "      <th id=\"T_09bf1_level0_col0\" class=\"col_heading level0 col0\" >dtypes</th>\n",
              "      <th id=\"T_09bf1_level0_col1\" class=\"col_heading level0 col1\" >missing#</th>\n",
              "      <th id=\"T_09bf1_level0_col2\" class=\"col_heading level0 col2\" >missing%</th>\n",
              "      <th id=\"T_09bf1_level0_col3\" class=\"col_heading level0 col3\" >uniques</th>\n",
              "      <th id=\"T_09bf1_level0_col4\" class=\"col_heading level0 col4\" >count</th>\n",
              "    </tr>\n",
              "  </thead>\n",
              "  <tbody>\n",
              "    <tr>\n",
              "      <th id=\"T_09bf1_level0_row0\" class=\"row_heading level0 row0\" >id</th>\n",
              "      <td id=\"T_09bf1_row0_col0\" class=\"data row0 col0\" >int64</td>\n",
              "      <td id=\"T_09bf1_row0_col1\" class=\"data row0 col1\" >0</td>\n",
              "      <td id=\"T_09bf1_row0_col2\" class=\"data row0 col2\" >0.000000</td>\n",
              "      <td id=\"T_09bf1_row0_col3\" class=\"data row0 col3\" >207292</td>\n",
              "      <td id=\"T_09bf1_row0_col4\" class=\"data row0 col4\" >207292</td>\n",
              "    </tr>\n",
              "    <tr>\n",
              "      <th id=\"T_09bf1_level0_row1\" class=\"row_heading level0 row1\" >sys_lang</th>\n",
              "      <td id=\"T_09bf1_row1_col0\" class=\"data row1 col0\" >object</td>\n",
              "      <td id=\"T_09bf1_row1_col1\" class=\"data row1 col1\" >0</td>\n",
              "      <td id=\"T_09bf1_row1_col2\" class=\"data row1 col2\" >0.000000</td>\n",
              "      <td id=\"T_09bf1_row1_col3\" class=\"data row1 col3\" >46</td>\n",
              "      <td id=\"T_09bf1_row1_col4\" class=\"data row1 col4\" >207292</td>\n",
              "    </tr>\n",
              "    <tr>\n",
              "      <th id=\"T_09bf1_level0_row2\" class=\"row_heading level0 row2\" >url</th>\n",
              "      <td id=\"T_09bf1_row2_col0\" class=\"data row2 col0\" >object</td>\n",
              "      <td id=\"T_09bf1_row2_col1\" class=\"data row2 col1\" >0</td>\n",
              "      <td id=\"T_09bf1_row2_col2\" class=\"data row2 col2\" >0.000000</td>\n",
              "      <td id=\"T_09bf1_row2_col3\" class=\"data row2 col3\" >203993</td>\n",
              "      <td id=\"T_09bf1_row2_col4\" class=\"data row2 col4\" >207292</td>\n",
              "    </tr>\n",
              "    <tr>\n",
              "      <th id=\"T_09bf1_level0_row3\" class=\"row_heading level0 row3\" >content</th>\n",
              "      <td id=\"T_09bf1_row3_col0\" class=\"data row3 col0\" >object</td>\n",
              "      <td id=\"T_09bf1_row3_col1\" class=\"data row3 col1\" >65376</td>\n",
              "      <td id=\"T_09bf1_row3_col2\" class=\"data row3 col2\" >0.315381</td>\n",
              "      <td id=\"T_09bf1_row3_col3\" class=\"data row3 col3\" >131730</td>\n",
              "      <td id=\"T_09bf1_row3_col4\" class=\"data row3 col4\" >141916</td>\n",
              "    </tr>\n",
              "    <tr>\n",
              "      <th id=\"T_09bf1_level0_row4\" class=\"row_heading level0 row4\" >category</th>\n",
              "      <td id=\"T_09bf1_row4_col0\" class=\"data row4 col0\" >object</td>\n",
              "      <td id=\"T_09bf1_row4_col1\" class=\"data row4 col1\" >0</td>\n",
              "      <td id=\"T_09bf1_row4_col2\" class=\"data row4 col2\" >0.000000</td>\n",
              "      <td id=\"T_09bf1_row4_col3\" class=\"data row4 col3\" >4</td>\n",
              "      <td id=\"T_09bf1_row4_col4\" class=\"data row4 col4\" >207292</td>\n",
              "    </tr>\n",
              "  </tbody>\n",
              "</table>\n"
            ]
          },
          "metadata": {},
          "execution_count": 3
        }
      ]
    },
    {
      "cell_type": "code",
      "source": [
        "def short_describe(df):\n",
        "    rows, cols = df.shape\n",
        "    col_names = ', '.join(df.columns.tolist())\n",
        "    print(f'* Number of Rows: {rows}')\n",
        "    print(f'* Number of Columns: {cols}')\n",
        "    print(f'* Column names:\\n {col_names}')\n",
        "\n",
        "short_describe(df_train)"
      ],
      "metadata": {
        "colab": {
          "base_uri": "https://localhost:8080/"
        },
        "id": "XyioKyO0Hcyo",
        "outputId": "0ebbdbfb-99c1-434a-fa3a-dd2fca714f80"
      },
      "execution_count": null,
      "outputs": [
        {
          "output_type": "stream",
          "name": "stdout",
          "text": [
            "* Number of Rows: 207292\n",
            "* Number of Columns: 5\n",
            "* Column names:\n",
            " id, sys_lang, url, content, category\n"
          ]
        }
      ]
    },
    {
      "cell_type": "code",
      "source": [
        "train_sequences = tokenizer.texts_to_sequences(df_train['content'])\n",
        "test_sequences = tokenizer.texts_to_sequences(df_test['question'])"
      ],
      "metadata": {
        "id": "w5NMy2aRj3Gv"
      },
      "execution_count": null,
      "outputs": []
    },
    {
      "cell_type": "code",
      "source": [
        "train_padded = pad_sequences(train_sequences, maxlen=max_sequence_length, padding='post')\n",
        "test_padded = pad_sequences(test_sequences, maxlen=max_sequence_length, padding='post')"
      ],
      "metadata": {
        "id": "npYrxAxKWnmA"
      },
      "execution_count": null,
      "outputs": []
    },
    {
      "cell_type": "code",
      "source": [
        "model = tf.keras.Sequential([\n",
        "    tf.keras.layers.Embedding(input_dim=len(tokenizer.word_index) + 1, output_dim=100, input_length=max_sequence_length),\n",
        "    tf.keras.layers.LSTM(128),\n",
        "    tf.keras.layers.Dense(100, activation='relu')\n",
        "])"
      ],
      "metadata": {
        "id": "c4TKeFP8WiqX"
      },
      "execution_count": null,
      "outputs": []
    },
    {
      "cell_type": "code",
      "source": [
        "model.compile(optimizer='adam', loss='cosine_similarity')"
      ],
      "metadata": {
        "id": "dqIQeDdmWkWK"
      },
      "execution_count": null,
      "outputs": []
    },
    {
      "cell_type": "code",
      "source": [
        "model.fit(train_padded, train_padded, epochs=10)"
      ],
      "metadata": {
        "id": "Ppao1OcNWrTv"
      },
      "execution_count": null,
      "outputs": []
    },
    {
      "cell_type": "code",
      "source": [
        "similarity_scores = cosine_similarity(model.predict(test_padded), model.predict(train_padded))"
      ],
      "metadata": {
        "id": "eupVf4NlWxov"
      },
      "execution_count": null,
      "outputs": []
    },
    {
      "cell_type": "code",
      "source": [
        "top_indices = np.argmax(similarity_scores, axis=1)"
      ],
      "metadata": {
        "id": "NEcwqb6OWzIz"
      },
      "execution_count": null,
      "outputs": []
    },
    {
      "cell_type": "code",
      "source": [
        "submission = pd.DataFrame()\n",
        "submission['id'] = df_test['id']\n",
        "submission['index'] = top_indices\n",
        "\n",
        "submission.to_csv('submission.csv', index=False)\n",
        "submission.head(10)"
      ],
      "metadata": {
        "id": "VI58eNsjW0a0"
      },
      "execution_count": null,
      "outputs": []
    }
  ]
}